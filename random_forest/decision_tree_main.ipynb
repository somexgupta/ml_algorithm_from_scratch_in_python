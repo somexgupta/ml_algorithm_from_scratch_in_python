{
 "cells": [
  {
   "cell_type": "markdown",
   "metadata": {},
   "source": [
    "# Introduction"
   ]
  },
  {
   "cell_type": "markdown",
   "metadata": {},
   "source": [
    "The intent of this notebook is to implement decision tree from scratch, following modular structure for each component and function so that it can be used in other modules and can be customized easily.\n",
    "<br>You may be thinking why to implement from scratch rather than using ready to use available packages from sklearn.\n",
    "<br>Learning and in future use the same for customized implementing if required is the main idea."
   ]
  },
  {
   "cell_type": "markdown",
   "metadata": {},
   "source": [
    "# Background of decision tree"
   ]
  },
  {
   "cell_type": "markdown",
   "metadata": {},
   "source": [
    "-\tDecision trees are a method of splitting the data based on features to either classify or predicting some value.\n",
    "-\tEach branch in a decision tree divides the data into one or two (or several, if the tree is not binary) groups.\n",
    "-\tEach leaf node is allocated with a single label (class or predicted value). \n",
    "-\tWhen predicting using the decision tree, the data is allocated to the appropriate leaf node, and the prediction is the label of that leaf node."
   ]
  },
  {
   "cell_type": "markdown",
   "metadata": {},
   "source": [
    "# Implementation\n",
    "<pre>For implementation we need to answer two question - What type of question to ask and when\n",
    "i.e. out of all the available features which feature to use for splitting the data and when?</pre>\n",
    "\n",
    "<pre style=\"font-family:courier;\">There are a family of decision tree algorithms that can be used to answer this question, some are\n",
    "- ID3 (Iterative Dichotomiser 3)\n",
    "- C4.5 \n",
    "- C5.0\n",
    "- CART (Classification and Regression Trees)\n",
    "</pre>\n",
    "\n",
    "<pre>Here we will be using CART algorithm for implementation</pre>\n",
    "\n",
    "###  Some details of CART \n",
    "<pre>- CART algorithm produces only binary trees\n",
    "- It is a greedy algorithm</pre>\n",
    "#### how it's work\n",
    "<pre>\n",
    "- All tree will start with root node(it will receive all the training set)\n",
    "- Now each node will ask a true/false question for one of the features(which feature we will see later)\n",
    "- In response to above question we will split the data into two subsets.\n",
    "- This subset becomes input to two child node that we add to the tree\n",
    "- The goal of the split is to unmix data, to create purest possible distribution as we go down the tree. (how to check purity we will see later)\n",
    "- We will keep dividing the data until there is no further question to ask at which point, we will add a leaf node.\n",
    "\n",
    "<b>Now coming back to the question of splitting the data, what question to ask and when?</b>\n",
    "- Before we can think of \"what question to ask\" we need all available question for which we have to find out how many questions can unmix the label or class\n",
    "- we can find the number of question to ask at any node using metric <b><i>Gini Impurity</i></b>.\n",
    "- and which question to ask using concept of <b><i>Information Gain</i></b>.\n",
    "- we will use <i>Gini Impurity</i> and <i>Information Gain</i> to ask best question at each point.\n",
    "\n",
    "Note: the best question is one that reduces our uncertainity the most, Gini Impurity caculate how much uncertinity is there in the node and Information gain let us know how much uncertinity is reduced by the that question.\n",
    "\n",
    "</pre>\n",
    "##### Gini Impurity\n",
    "<pre>Gini Impurity is a measurement of the likelihood of an incorrect classification of class labels from the data set.</pre>\n",
    "##### Information Gain\n",
    "<pre>\n",
    "Information gain is the reduction in entropy or surprise by transforming a dataset and is often used in training decision trees. Information gain is calculated by comparing the entropy of the dataset before and after a transformation.\n",
    "</pre>"
   ]
  },
  {
   "cell_type": "markdown",
   "metadata": {},
   "source": [
    "<pre>\n",
    "References:\n",
    "- https://mlexplained.com/2018/01/05/lightgbm-and-xgboost-explained/\n",
    "- https://www.youtube.com/watch?v=LDRbO9a6XPU\n",
    "</pre>"
   ]
  },
  {
   "cell_type": "markdown",
   "metadata": {},
   "source": []
  },
  {
   "cell_type": "code",
   "execution_count": 22,
   "metadata": {},
   "outputs": [],
   "source": [
    "# import utils\n",
    "from utils.is_numeric import is_numeric\n",
    "from utils.class_counts import class_counts\n",
    "from utils.gini import gini\n",
    "from utils.info_gain import info_gain\n",
    "from utils.unique_vals import unique_vals"
   ]
  },
  {
   "cell_type": "code",
   "execution_count": 2,
   "metadata": {},
   "outputs": [],
   "source": [
    "training_data = [\n",
    "    ['Green', 3, 'Apple'],\n",
    "    ['Yellow', 3, 'Apple'],\n",
    "    ['Red', 1, 'Grape'],\n",
    "    ['Red', 1, 'Grape'],\n",
    "    ['Yellow', 3, 'Lemon'],\n",
    "]"
   ]
  },
  {
   "cell_type": "code",
   "execution_count": 3,
   "metadata": {},
   "outputs": [],
   "source": [
    "# Column labels.\n",
    "# These are used only to print the tree.\n",
    "header = [\"color\", \"diameter\", \"label\"]"
   ]
  },
  {
   "cell_type": "code",
   "execution_count": 9,
   "metadata": {},
   "outputs": [],
   "source": [
    "class Question:\n",
    "    \"\"\" A Question is used to partition a dataset \n",
    "\n",
    "    This class just records a 'column number' and a 'column value'.\n",
    "    The 'match' method is used to compare the feature value in an example \n",
    "    to the feature value store in the question.\n",
    "    \"\"\"\n",
    "\n",
    "    def __init__(self, column, value):\n",
    "        self.column = column\n",
    "        self.value = value\n",
    "\n",
    "    def match(self, example):\n",
    "        \"\"\" compare the feature value in an example to the feature value in this question \"\"\"\n",
    "        val = example[self.column]\n",
    "        if is_numeric(val):\n",
    "            return val >= self.value\n",
    "        else:\n",
    "            return val == self.value\n",
    "    \n",
    "    def __repr__(self):\n",
    "        # This is just a helper method to print\n",
    "        # the question in a readable format.\n",
    "        condition = \"==\"\n",
    "        if is_numeric(self.value):\n",
    "            condition = \">=\"\n",
    "        return \"Is %s %s %s?\" % (\n",
    "            header[self.column], condition, str(self.value))\n",
    "        "
   ]
  },
  {
   "cell_type": "code",
   "execution_count": 26,
   "metadata": {},
   "outputs": [
    {
     "data": {
      "text/plain": [
       "Is color == Green?"
      ]
     },
     "execution_count": 26,
     "metadata": {},
     "output_type": "execute_result"
    }
   ],
   "source": [
    "# test\n",
    "q = Question(0,'Green')\n",
    "q"
   ]
  },
  {
   "cell_type": "code",
   "execution_count": 8,
   "metadata": {},
   "outputs": [],
   "source": [
    "def partition(rows, question):\n",
    "    \"\"\" Partitions a dataset. For each row in the dataset, \n",
    "    check if it matches the question if so, \n",
    "    add it to true_rows else to fasle_rows\"\"\"\n",
    "    true_rows, false_rows = [], []\n",
    "    for row in rows:\n",
    "        if question.match(row):\n",
    "            true_rows.append(row)\n",
    "        else:\n",
    "            false_rows.append(row)\n",
    "    return true_rows, false_rows"
   ]
  },
  {
   "cell_type": "code",
   "execution_count": 30,
   "metadata": {},
   "outputs": [],
   "source": [
    "def find_best_split(rows, column_number):\n",
    "    \"\"\" Find the best quesiton to ask by iterating over every feature / value\n",
    "    and calculating the information gain\"\"\"\n",
    "    best_gain = 0 # track of the best Information gain\n",
    "    best_quetion = None # best question for the gain\n",
    "    current_uncertainty = gini(rows, column_number) # column = -1 as or target is in last column\n",
    "    n_features = len(rows[0]) -1 # number of columns\n",
    "    for col in range(n_features):\n",
    "        values = unique_vals(rows,col) # unique values in the columns\n",
    "        for val in values: # for each unique value in the column\n",
    "            question = Question(col,val)\n",
    "            \n",
    "            # try splitting the dataset\n",
    "            true_rows, false_rows = partition(rows, question)\n",
    "            \n",
    "            # skip the split if it doesn't divide the dataset\n",
    "            if len(true_rows) == 0 or len(false_rows) == 0:\n",
    "                continue\n",
    "            \n",
    "            # calculate information gain on this split\n",
    "            gain = info_gain(true_rows, false_rows, current_uncertainty, column_number)\n",
    "            \n",
    "            # You actually can use '>' instead of '>=' here\n",
    "            # but I wanted the tree to look a certain way for our toy dataset.\n",
    "            if gain >= best_gain:\n",
    "                best_gain,best_quetion = gain, question\n",
    "    \n",
    "    return best_gain, best_quetion\n",
    "            "
   ]
  },
  {
   "cell_type": "code",
   "execution_count": 31,
   "metadata": {},
   "outputs": [
    {
     "data": {
      "text/plain": [
       "Is diameter >= 3?"
      ]
     },
     "execution_count": 31,
     "metadata": {},
     "output_type": "execute_result"
    }
   ],
   "source": [
    "# test\n",
    "best_gain, best_question = find_best_split(training_data,column_number=-1)\n",
    "best_question"
   ]
  },
  {
   "cell_type": "code",
   "execution_count": 27,
   "metadata": {},
   "outputs": [],
   "source": [
    "class Leaf:\n",
    "    \"\"\" A Leaf node classifies data.\n",
    "    This holds a dictionary of class and number of times it appears \n",
    "    in the rows from the training data that reaches this leaf.\n",
    "    e.g Apple:2\"\"\"\n",
    "    def __init__(self, rows):\n",
    "        self.predictions = class_counts(rows,column_number=-1)"
   ]
  },
  {
   "cell_type": "code",
   "execution_count": 28,
   "metadata": {},
   "outputs": [],
   "source": [
    "class Decision_Node:\n",
    "    \"\"\"A Decision Node asks a question.\n",
    "    This holds a reference to the question and the two child\"\"\"\n",
    "    \n",
    "    def __init__(self, question, true_branch, false_branch):\n",
    "        self.question = question\n",
    "        self.true_branch = true_branch\n",
    "        self.false_branch = false_branch"
   ]
  },
  {
   "cell_type": "code",
   "execution_count": 34,
   "metadata": {},
   "outputs": [],
   "source": [
    "def build_tree(rows):\n",
    "    \"\"\"Build the tree\n",
    "    recursively build the tree\"\"\"\n",
    "    \n",
    "    # try partitioning the dataset on each of the unique attribute,\n",
    "    # calculate the information gain and return the question \n",
    "    #that produces the hightes gain.\n",
    "    gain, question = find_best_split(rows, column_number=-1)\n",
    "    \n",
    "    # Base case: no further information gain, \n",
    "    # since we cannot ask futher question we'll return a leaf.\n",
    "    if gain==0:\n",
    "        return Leaf(rows)\n",
    "    \n",
    "    # if came upto this point then there are useful feature to partition\n",
    "    true_rows, false_rows = partition(rows, question)\n",
    "    \n",
    "    # Recursively build the true branch\n",
    "    true_branch = build_tree(true_rows)\n",
    "    # Recursively build the false branch\n",
    "    false_branch = build_tree(false_rows)\n",
    "    \n",
    "    # Return a Question node.\n",
    "    # This records the best feature / value to ask at this point, as well as the branches to follow dependingo on the answer.\n",
    "    return Decision_Node(question, true_branch, false_branch)"
   ]
  },
  {
   "cell_type": "code",
   "execution_count": 40,
   "metadata": {},
   "outputs": [],
   "source": [
    "def print_tree(node, spacing=\"\"):\n",
    "    \"\"\" Funtion to print the tree structure\"\"\"\n",
    "    # base case if its a leaf node\n",
    "    if isinstance(node, Leaf):\n",
    "        print(spacing + \"Predict\",node.predictions)\n",
    "        return\n",
    "    # if not leaf print the question\n",
    "    print(spacing + str(node.question))\n",
    "    \n",
    "    # call the function recursively on the true and false branch\n",
    "    print (spacing + '--> True:')\n",
    "    print_tree(node.true_branch, spacing + \"  \")\n",
    "\n",
    "    print (spacing + '--> False:')\n",
    "    print_tree(node.false_branch, spacing + \"  \")"
   ]
  },
  {
   "cell_type": "code",
   "execution_count": 37,
   "metadata": {},
   "outputs": [],
   "source": [
    "my_tree = build_tree(training_data)"
   ]
  },
  {
   "cell_type": "code",
   "execution_count": 41,
   "metadata": {},
   "outputs": [
    {
     "name": "stdout",
     "output_type": "stream",
     "text": [
      "Is diameter >= 3?\n",
      "--> True:\n",
      "  Is color == Yellow?\n",
      "  --> True:\n",
      "    Predict {'Apple': 1, 'Lemon': 1}\n",
      "  --> False:\n",
      "    Predict {'Apple': 1}\n",
      "--> False:\n",
      "  Predict {'Grape': 2}\n"
     ]
    }
   ],
   "source": [
    "print_tree(my_tree)"
   ]
  },
  {
   "cell_type": "code",
   "execution_count": 42,
   "metadata": {},
   "outputs": [],
   "source": [
    "def classify(row, node):\n",
    "    \"\"\" Based on the rule of recursion, decide which label to assign for current row\"\"\"\n",
    "    if isinstance(node,Leaf):\n",
    "        return node.predictions\n",
    "    # decide whether to move left or right\n",
    "    if node.question.match(row):\n",
    "        return classify(row, node.true_branch)\n",
    "    else:\n",
    "        return classify(row, node.false_branch)\n",
    "    "
   ]
  },
  {
   "cell_type": "code",
   "execution_count": 43,
   "metadata": {},
   "outputs": [
    {
     "data": {
      "text/plain": [
       "{'Apple': 1}"
      ]
     },
     "execution_count": 43,
     "metadata": {},
     "output_type": "execute_result"
    }
   ],
   "source": [
    "# test\n",
    "classify(training_data[0], my_tree)"
   ]
  },
  {
   "cell_type": "code",
   "execution_count": 44,
   "metadata": {},
   "outputs": [],
   "source": [
    "def print_leaf(counts):\n",
    "    \"\"\"A nicer way to print the predictions at a leaf.\"\"\"\n",
    "    total = sum(counts.values()) * 1.0\n",
    "    probs = {}\n",
    "    for lbl in counts.keys():\n",
    "        probs[lbl] = str(int(counts[lbl] / total * 100)) + \"%\"\n",
    "    return probs"
   ]
  },
  {
   "cell_type": "code",
   "execution_count": 45,
   "metadata": {},
   "outputs": [
    {
     "data": {
      "text/plain": [
       "{'Apple': '100%'}"
      ]
     },
     "execution_count": 45,
     "metadata": {},
     "output_type": "execute_result"
    }
   ],
   "source": [
    "print_leaf(classify(training_data[0], my_tree))"
   ]
  },
  {
   "cell_type": "code",
   "execution_count": 46,
   "metadata": {},
   "outputs": [
    {
     "data": {
      "text/plain": [
       "{'Apple': '50%', 'Lemon': '50%'}"
      ]
     },
     "execution_count": 46,
     "metadata": {},
     "output_type": "execute_result"
    }
   ],
   "source": [
    "print_leaf(classify(training_data[1], my_tree))"
   ]
  },
  {
   "cell_type": "code",
   "execution_count": 47,
   "metadata": {},
   "outputs": [],
   "source": [
    "# Evaluate\n",
    "testing_data = [\n",
    "    ['Green', 3, 'Apple'],\n",
    "    ['Yellow', 4, 'Apple'],\n",
    "    ['Red', 2, 'Grape'],\n",
    "    ['Red', 1, 'Grape'],\n",
    "    ['Yellow', 3, 'Lemon'],\n",
    "]"
   ]
  },
  {
   "cell_type": "code",
   "execution_count": 48,
   "metadata": {},
   "outputs": [
    {
     "name": "stdout",
     "output_type": "stream",
     "text": [
      "Actual: Apple. Predicted: {'Apple': '100%'}\n",
      "Actual: Apple. Predicted: {'Apple': '50%', 'Lemon': '50%'}\n",
      "Actual: Grape. Predicted: {'Grape': '100%'}\n",
      "Actual: Grape. Predicted: {'Grape': '100%'}\n",
      "Actual: Lemon. Predicted: {'Apple': '50%', 'Lemon': '50%'}\n"
     ]
    }
   ],
   "source": [
    "for row in testing_data:\n",
    "    print (\"Actual: %s. Predicted: %s\" %\n",
    "           (row[-1], print_leaf(classify(row, my_tree))))"
   ]
  },
  {
   "cell_type": "markdown",
   "metadata": {},
   "source": [
    "## Testing with Social media data"
   ]
  },
  {
   "cell_type": "code",
   "execution_count": 85,
   "metadata": {},
   "outputs": [
    {
     "name": "stdout",
     "output_type": "stream",
     "text": [
      "    User ID  Gender  Age  EstimatedSalary  Purchased\n",
      "0  15624510    Male   19            19000          0\n",
      "1  15810944    Male   35            20000          0\n",
      "2  15668575  Female   26            43000          0\n",
      "3  15603246  Female   27            57000          0\n",
      "4  15804002    Male   19            76000          0\n"
     ]
    }
   ],
   "source": [
    "# test for social media dataset\n",
    "import pandas as pd\n",
    "from sklearn.model_selection import train_test_split\n",
    "df=pd.read_csv('Social_Network_Ads.csv')\n",
    "print(df.head())\n",
    "train_df,test_df = train_test_split(df)"
   ]
  },
  {
   "cell_type": "code",
   "execution_count": null,
   "metadata": {},
   "outputs": [],
   "source": [
    "header = [\"Gender\",\"Age\",\"EstimatedSalary\",\"Purchased\"]"
   ]
  },
  {
   "cell_type": "code",
   "execution_count": 89,
   "metadata": {},
   "outputs": [],
   "source": [
    "tree_fil = build_tree(train_df.drop('User ID',axis=1).values)"
   ]
  },
  {
   "cell_type": "code",
   "execution_count": 90,
   "metadata": {},
   "outputs": [
    {
     "name": "stdout",
     "output_type": "stream",
     "text": [
      "Is diameter >= 43?\n",
      "--> True:\n",
      "  Is label >= 39000?\n",
      "  --> True:\n",
      "    Is label >= 86000?\n",
      "    --> True:\n",
      "      Is label >= 134000?\n",
      "      --> True:\n",
      "        Is label >= 143000?\n",
      "        --> True:\n",
      "          Predict {1: 4}\n",
      "        --> False:\n",
      "          Is label >= 141000?\n",
      "          --> True:\n",
      "            Predict {0: 1}\n",
      "          --> False:\n",
      "            Is label >= 138000?\n",
      "            --> True:\n",
      "              Predict {1: 2}\n",
      "            --> False:\n",
      "              Is diameter >= 51?\n",
      "              --> True:\n",
      "                Predict {0: 1}\n",
      "              --> False:\n",
      "                Predict {1: 1}\n",
      "      --> False:\n",
      "        Is diameter >= 47?\n",
      "        --> True:\n",
      "          Predict {1: 19}\n",
      "        --> False:\n",
      "          Is label >= 112000?\n",
      "          --> True:\n",
      "            Predict {1: 4}\n",
      "          --> False:\n",
      "            Predict {0: 1}\n",
      "    --> False:\n",
      "      Is diameter >= 53?\n",
      "      --> True:\n",
      "        Is label >= 83000?\n",
      "        --> True:\n",
      "          Predict {0: 1}\n",
      "        --> False:\n",
      "          Predict {1: 5}\n",
      "      --> False:\n",
      "        Is label >= 59000?\n",
      "        --> True:\n",
      "          Is label >= 74000?\n",
      "          --> True:\n",
      "            Is label >= 82000?\n",
      "            --> True:\n",
      "              Predict {0: 1}\n",
      "            --> False:\n",
      "              Is diameter >= 46?\n",
      "              --> True:\n",
      "                Is diameter >= 49?\n",
      "                --> True:\n",
      "                  Predict {0: 1}\n",
      "                --> False:\n",
      "                  Predict {1: 2}\n",
      "              --> False:\n",
      "                Predict {0: 1}\n",
      "          --> False:\n",
      "            Predict {0: 2}\n",
      "        --> False:\n",
      "          Is label >= 49000?\n",
      "          --> True:\n",
      "            Predict {1: 3}\n",
      "          --> False:\n",
      "            Is label >= 43000?\n",
      "            --> True:\n",
      "              Is diameter >= 47?\n",
      "              --> True:\n",
      "                Predict {0: 3}\n",
      "              --> False:\n",
      "                Predict {1: 1}\n",
      "            --> False:\n",
      "              Is diameter >= 46?\n",
      "              --> True:\n",
      "                Predict {1: 3}\n",
      "              --> False:\n",
      "                Predict {0: 1}\n",
      "  --> False:\n",
      "    Is label >= 23000?\n",
      "    --> True:\n",
      "      Predict {1: 25}\n",
      "    --> False:\n",
      "      Is label >= 22000?\n",
      "      --> True:\n",
      "        Predict {0: 1}\n",
      "      --> False:\n",
      "        Predict {1: 1}\n",
      "--> False:\n",
      "  Is label >= 90000?\n",
      "  --> True:\n",
      "    Is diameter >= 28?\n",
      "    --> True:\n",
      "      Is label >= 118000?\n",
      "      --> True:\n",
      "        Predict {1: 15}\n",
      "      --> False:\n",
      "        Is label >= 113000?\n",
      "        --> True:\n",
      "          Predict {0: 4}\n",
      "        --> False:\n",
      "          Is label >= 108000?\n",
      "          --> True:\n",
      "            Is diameter >= 35?\n",
      "            --> True:\n",
      "              Is diameter >= 42?\n",
      "              --> True:\n",
      "                Predict {1: 1}\n",
      "              --> False:\n",
      "                Predict {0: 1}\n",
      "            --> False:\n",
      "              Predict {1: 1}\n",
      "          --> False:\n",
      "            Predict {1: 8}\n",
      "    --> False:\n",
      "      Predict {0: 2}\n",
      "  --> False:\n",
      "    Is diameter >= 37?\n",
      "    --> True:\n",
      "      Is label >= 73000?\n",
      "      --> True:\n",
      "        Is label >= 87000?\n",
      "        --> True:\n",
      "          Predict {1: 1}\n",
      "        --> False:\n",
      "          Is label >= 77000?\n",
      "          --> True:\n",
      "            Is diameter >= 38?\n",
      "            --> True:\n",
      "              Predict {0: 7}\n",
      "            --> False:\n",
      "              Is label >= 80000?\n",
      "              --> True:\n",
      "                Predict {0: 2}\n",
      "              --> False:\n",
      "                Predict {1: 2}\n",
      "          --> False:\n",
      "            Is diameter >= 39?\n",
      "            --> True:\n",
      "              Predict {1: 2}\n",
      "            --> False:\n",
      "              Predict {0: 1}\n",
      "      --> False:\n",
      "        Is label >= 70000?\n",
      "        --> True:\n",
      "          Is color == Female?\n",
      "          --> True:\n",
      "            Predict {0: 7}\n",
      "          --> False:\n",
      "            Is label >= 71000?\n",
      "            --> True:\n",
      "              Is diameter >= 40?\n",
      "              --> True:\n",
      "                Predict {1: 1}\n",
      "              --> False:\n",
      "                Predict {0: 4}\n",
      "            --> False:\n",
      "              Predict {1: 1}\n",
      "        --> False:\n",
      "          Predict {0: 33}\n",
      "    --> False:\n",
      "      Predict {0: 123}\n"
     ]
    }
   ],
   "source": [
    "print_tree(tree_fil)"
   ]
  },
  {
   "cell_type": "code",
   "execution_count": 114,
   "metadata": {},
   "outputs": [
    {
     "data": {
      "text/plain": [
       "1"
      ]
     },
     "execution_count": 114,
     "metadata": {},
     "output_type": "execute_result"
    }
   ],
   "source": [
    "di={1:2}\n",
    "# dir(di)\n",
    "list(di.keys())[0]"
   ]
  },
  {
   "cell_type": "code",
   "execution_count": 115,
   "metadata": {},
   "outputs": [
    {
     "name": "stdout",
     "output_type": "stream",
     "text": [
      "{0: 7}\n",
      "Actual: 0. Predicted: {0: '100%'}, Status: Correct\n",
      "{0: 1}\n",
      "Actual: 1. Predicted: {0: '100%'}, Status: Incorrect\n",
      "{0: 123}\n",
      "Actual: 0. Predicted: {0: '100%'}, Status: Correct\n",
      "{0: 123}\n",
      "Actual: 0. Predicted: {0: '100%'}, Status: Correct\n",
      "{0: 4}\n",
      "Actual: 1. Predicted: {0: '100%'}, Status: Incorrect\n",
      "{0: 123}\n",
      "Actual: 0. Predicted: {0: '100%'}, Status: Correct\n",
      "{1: 8}\n",
      "Actual: 1. Predicted: {1: '100%'}, Status: Correct\n",
      "{1: 5}\n",
      "Actual: 1. Predicted: {1: '100%'}, Status: Correct\n",
      "{1: 4}\n",
      "Actual: 0. Predicted: {1: '100%'}, Status: Incorrect\n",
      "{1: 2}\n",
      "Actual: 0. Predicted: {1: '100%'}, Status: Incorrect\n",
      "{1: 5}\n",
      "Actual: 1. Predicted: {1: '100%'}, Status: Correct\n",
      "{0: 33}\n",
      "Actual: 0. Predicted: {0: '100%'}, Status: Correct\n",
      "{0: 123}\n",
      "Actual: 0. Predicted: {0: '100%'}, Status: Correct\n",
      "{0: 2}\n",
      "Actual: 1. Predicted: {0: '100%'}, Status: Incorrect\n",
      "{1: 5}\n",
      "Actual: 1. Predicted: {1: '100%'}, Status: Correct\n",
      "{1: 2}\n",
      "Actual: 0. Predicted: {1: '100%'}, Status: Incorrect\n",
      "{1: 15}\n",
      "Actual: 1. Predicted: {1: '100%'}, Status: Correct\n",
      "{0: 123}\n",
      "Actual: 0. Predicted: {0: '100%'}, Status: Correct\n",
      "{1: 2}\n",
      "Actual: 0. Predicted: {1: '100%'}, Status: Incorrect\n",
      "{0: 123}\n",
      "Actual: 0. Predicted: {0: '100%'}, Status: Correct\n",
      "{1: 5}\n",
      "Actual: 1. Predicted: {1: '100%'}, Status: Correct\n",
      "{0: 1}\n",
      "Actual: 1. Predicted: {0: '100%'}, Status: Incorrect\n",
      "{1: 4}\n",
      "Actual: 1. Predicted: {1: '100%'}, Status: Correct\n",
      "{0: 7}\n",
      "Actual: 0. Predicted: {0: '100%'}, Status: Correct\n",
      "{0: 123}\n",
      "Actual: 0. Predicted: {0: '100%'}, Status: Correct\n",
      "{0: 123}\n",
      "Actual: 0. Predicted: {0: '100%'}, Status: Correct\n",
      "{0: 123}\n",
      "Actual: 0. Predicted: {0: '100%'}, Status: Correct\n",
      "{0: 33}\n",
      "Actual: 0. Predicted: {0: '100%'}, Status: Correct\n",
      "{0: 123}\n",
      "Actual: 0. Predicted: {0: '100%'}, Status: Correct\n",
      "{0: 123}\n",
      "Actual: 0. Predicted: {0: '100%'}, Status: Correct\n",
      "{1: 19}\n",
      "Actual: 0. Predicted: {1: '100%'}, Status: Incorrect\n",
      "{1: 4}\n",
      "Actual: 1. Predicted: {1: '100%'}, Status: Correct\n",
      "{0: 123}\n",
      "Actual: 0. Predicted: {0: '100%'}, Status: Correct\n",
      "{1: 19}\n",
      "Actual: 1. Predicted: {1: '100%'}, Status: Correct\n",
      "{1: 15}\n",
      "Actual: 1. Predicted: {1: '100%'}, Status: Correct\n",
      "{1: 5}\n",
      "Actual: 1. Predicted: {1: '100%'}, Status: Correct\n",
      "{0: 123}\n",
      "Actual: 0. Predicted: {0: '100%'}, Status: Correct\n",
      "{0: 123}\n",
      "Actual: 0. Predicted: {0: '100%'}, Status: Correct\n",
      "{0: 33}\n",
      "Actual: 0. Predicted: {0: '100%'}, Status: Correct\n",
      "{1: 19}\n",
      "Actual: 1. Predicted: {1: '100%'}, Status: Correct\n",
      "{1: 19}\n",
      "Actual: 1. Predicted: {1: '100%'}, Status: Correct\n",
      "{0: 1}\n",
      "Actual: 0. Predicted: {0: '100%'}, Status: Correct\n",
      "{1: 25}\n",
      "Actual: 1. Predicted: {1: '100%'}, Status: Correct\n",
      "{0: 1}\n",
      "Actual: 1. Predicted: {0: '100%'}, Status: Incorrect\n",
      "{0: 123}\n",
      "Actual: 0. Predicted: {0: '100%'}, Status: Correct\n",
      "{0: 2}\n",
      "Actual: 0. Predicted: {0: '100%'}, Status: Correct\n",
      "{0: 123}\n",
      "Actual: 0. Predicted: {0: '100%'}, Status: Correct\n",
      "{1: 5}\n",
      "Actual: 1. Predicted: {1: '100%'}, Status: Correct\n",
      "{0: 123}\n",
      "Actual: 0. Predicted: {0: '100%'}, Status: Correct\n",
      "{1: 25}\n",
      "Actual: 1. Predicted: {1: '100%'}, Status: Correct\n",
      "{1: 15}\n",
      "Actual: 1. Predicted: {1: '100%'}, Status: Correct\n",
      "{0: 123}\n",
      "Actual: 0. Predicted: {0: '100%'}, Status: Correct\n",
      "{0: 123}\n",
      "Actual: 0. Predicted: {0: '100%'}, Status: Correct\n",
      "{0: 1}\n",
      "Actual: 0. Predicted: {0: '100%'}, Status: Correct\n",
      "{0: 2}\n",
      "Actual: 1. Predicted: {0: '100%'}, Status: Incorrect\n",
      "{1: 5}\n",
      "Actual: 1. Predicted: {1: '100%'}, Status: Correct\n",
      "{1: 2}\n",
      "Actual: 1. Predicted: {1: '100%'}, Status: Correct\n",
      "{0: 123}\n",
      "Actual: 0. Predicted: {0: '100%'}, Status: Correct\n",
      "{1: 5}\n",
      "Actual: 0. Predicted: {1: '100%'}, Status: Incorrect\n",
      "{0: 123}\n",
      "Actual: 0. Predicted: {0: '100%'}, Status: Correct\n",
      "{0: 123}\n",
      "Actual: 0. Predicted: {0: '100%'}, Status: Correct\n",
      "{0: 123}\n",
      "Actual: 0. Predicted: {0: '100%'}, Status: Correct\n",
      "{0: 33}\n",
      "Actual: 0. Predicted: {0: '100%'}, Status: Correct\n",
      "{0: 123}\n",
      "Actual: 0. Predicted: {0: '100%'}, Status: Correct\n",
      "{0: 123}\n",
      "Actual: 0. Predicted: {0: '100%'}, Status: Correct\n",
      "{0: 4}\n",
      "Actual: 1. Predicted: {0: '100%'}, Status: Incorrect\n",
      "{1: 2}\n",
      "Actual: 0. Predicted: {1: '100%'}, Status: Incorrect\n",
      "{0: 33}\n",
      "Actual: 0. Predicted: {0: '100%'}, Status: Correct\n",
      "{0: 33}\n",
      "Actual: 0. Predicted: {0: '100%'}, Status: Correct\n",
      "{0: 1}\n",
      "Actual: 1. Predicted: {0: '100%'}, Status: Incorrect\n",
      "{1: 15}\n",
      "Actual: 1. Predicted: {1: '100%'}, Status: Correct\n",
      "{0: 7}\n",
      "Actual: 1. Predicted: {0: '100%'}, Status: Incorrect\n",
      "{1: 2}\n",
      "Actual: 0. Predicted: {1: '100%'}, Status: Incorrect\n",
      "{1: 15}\n",
      "Actual: 1. Predicted: {1: '100%'}, Status: Correct\n",
      "{0: 123}\n",
      "Actual: 0. Predicted: {0: '100%'}, Status: Correct\n",
      "{0: 123}\n",
      "Actual: 0. Predicted: {0: '100%'}, Status: Correct\n",
      "{0: 123}\n",
      "Actual: 0. Predicted: {0: '100%'}, Status: Correct\n",
      "{1: 1}\n",
      "Actual: 1. Predicted: {1: '100%'}, Status: Correct\n",
      "{1: 8}\n",
      "Actual: 1. Predicted: {1: '100%'}, Status: Correct\n",
      "{1: 1}\n",
      "Actual: 1. Predicted: {1: '100%'}, Status: Correct\n",
      "{0: 1}\n",
      "Actual: 1. Predicted: {0: '100%'}, Status: Incorrect\n",
      "{1: 15}\n",
      "Actual: 1. Predicted: {1: '100%'}, Status: Correct\n",
      "{0: 123}\n",
      "Actual: 0. Predicted: {0: '100%'}, Status: Correct\n",
      "{1: 8}\n",
      "Actual: 1. Predicted: {1: '100%'}, Status: Correct\n",
      "{0: 123}\n",
      "Actual: 0. Predicted: {0: '100%'}, Status: Correct\n",
      "{0: 123}\n",
      "Actual: 0. Predicted: {0: '100%'}, Status: Correct\n",
      "{1: 25}\n",
      "Actual: 1. Predicted: {1: '100%'}, Status: Correct\n",
      "{0: 33}\n",
      "Actual: 0. Predicted: {0: '100%'}, Status: Correct\n",
      "{0: 123}\n",
      "Actual: 0. Predicted: {0: '100%'}, Status: Correct\n",
      "{0: 123}\n",
      "Actual: 0. Predicted: {0: '100%'}, Status: Correct\n",
      "{0: 123}\n",
      "Actual: 0. Predicted: {0: '100%'}, Status: Correct\n",
      "{1: 19}\n",
      "Actual: 1. Predicted: {1: '100%'}, Status: Correct\n",
      "{1: 19}\n",
      "Actual: 1. Predicted: {1: '100%'}, Status: Correct\n",
      "{0: 123}\n",
      "Actual: 0. Predicted: {0: '100%'}, Status: Correct\n",
      "{1: 1}\n",
      "Actual: 0. Predicted: {1: '100%'}, Status: Incorrect\n",
      "{0: 123}\n",
      "Actual: 0. Predicted: {0: '100%'}, Status: Correct\n",
      "{1: 19}\n",
      "Actual: 1. Predicted: {1: '100%'}, Status: Correct\n",
      "{1: 2}\n",
      "Actual: 0. Predicted: {1: '100%'}, Status: Incorrect\n",
      "{1: 19}\n",
      "Actual: 1. Predicted: {1: '100%'}, Status: Correct\n",
      "{0: 123}\n",
      "Actual: 0. Predicted: {0: '100%'}, Status: Correct\n"
     ]
    }
   ],
   "source": [
    "for row in test_df.drop('User ID',axis=1).values:\n",
    "    model_pred = classify(row, tree_fil)\n",
    "    status=\"\"\n",
    "    if list(model_pred.keys())[0] == row[-1]:\n",
    "        status=\"Correct\"\n",
    "    else:\n",
    "        status=\"Incorrect\"\n",
    "    print(model_pred)\n",
    "    print (\"Actual: %s. Predicted: %s, Status: %s\" %\n",
    "           (row[-1], print_leaf(model_pred), status))"
   ]
  }
 ],
 "metadata": {
  "kernelspec": {
   "display_name": "Python 3",
   "language": "python",
   "name": "python3"
  },
  "language_info": {
   "codemirror_mode": {
    "name": "ipython",
    "version": 3
   },
   "file_extension": ".py",
   "mimetype": "text/x-python",
   "name": "python",
   "nbconvert_exporter": "python",
   "pygments_lexer": "ipython3",
   "version": "3.7.6"
  }
 },
 "nbformat": 4,
 "nbformat_minor": 4
}
